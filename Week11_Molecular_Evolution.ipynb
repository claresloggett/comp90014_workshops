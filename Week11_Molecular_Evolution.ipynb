{
 "cells": [
  {
   "cell_type": "markdown",
   "metadata": {},
   "source": [
    "# Molecular evolution modeling\n",
    "*Matthew Wakefield*\n",
    "\n",
    "In this tutorial we are going to construct and assess a model of molecular evolution on a tree. To simplify the analysis we will use a specific simple tree shown below. \n",
    "\n",
    "\n",
    "```\n",
    "         Sequence1            Sequence2\n",
    "             \\                   /\n",
    "              \\                 /\n",
    "               \\               /\n",
    " length = t1    \\             / length = t2\n",
    "                 \\           /\n",
    "                  \\         /\n",
    "                   \\       /\n",
    "                   Ancestral\n",
    "```\n",
    "\n",
    "This tree is used as it has the fundamental features that would be iterated over when implementing a pruning algorithm."
   ]
  },
  {
   "cell_type": "code",
   "execution_count": 47,
   "metadata": {},
   "outputs": [],
   "source": [
    "sequence1 = 'GATCGATCGATCGATCGATCGATCGATCGATCGATCGATC'\n",
    "sequence2 = 'GATCGATCGATCGATCGATCGATCGATCGATCGATCGATC'"
   ]
  },
  {
   "cell_type": "markdown",
   "metadata": {},
   "source": [
    "We are going to construct a Q matrix for the modeling. We do this using numpy, the numerical library for python, and use the array data structure.  This is by default floats.\n",
    "As we will not be varying the mutation rate we dont need to keep remaking this matrix and it will be a constant in our calculations. Similarly because the JC69 assumes motif probabilities are constant and equal we dont need to worry about varying them either. "
   ]
  },
  {
   "cell_type": "code",
   "execution_count": 27,
   "metadata": {},
   "outputs": [],
   "source": [
    "import numpy"
   ]
  },
  {
   "cell_type": "code",
   "execution_count": 34,
   "metadata": {},
   "outputs": [],
   "source": [
    "mu=1\n",
    "jc69Q = numpy.array([[-3.0*mu/4.0,     mu/4.0,     mu/4.0,     mu/4.0],\n",
    "                     [     mu/4.0,-3.0*mu/4.0,     mu/4.0,     mu/4.0],\n",
    "                     [     mu/4.0,     mu/4.0,-3.0*mu/4.0,     mu/4.0],\n",
    "                     [     mu/4.0,     mu/4.0,     mu/4.0,-3.0*mu/4.0],\n",
    "                    ])"
   ]
  },
  {
   "cell_type": "code",
   "execution_count": 35,
   "metadata": {},
   "outputs": [
    {
     "data": {
      "text/plain": [
       "array([[-0.75,  0.25,  0.25,  0.25],\n",
       "       [ 0.25, -0.75,  0.25,  0.25],\n",
       "       [ 0.25,  0.25, -0.75,  0.25],\n",
       "       [ 0.25,  0.25,  0.25, -0.75]])"
      ]
     },
     "execution_count": 35,
     "metadata": {},
     "output_type": "execute_result"
    }
   ],
   "source": [
    "jc69Q"
   ]
  },
  {
   "cell_type": "markdown",
   "metadata": {},
   "source": [
    "We will be multiplying the Q matrix by time (t) which is a scalar."
   ]
  },
  {
   "cell_type": "code",
   "execution_count": 37,
   "metadata": {},
   "outputs": [
    {
     "data": {
      "text/plain": [
       "array([[-2.25,  0.75,  0.75,  0.75],\n",
       "       [ 0.75, -2.25,  0.75,  0.75],\n",
       "       [ 0.75,  0.75, -2.25,  0.75],\n",
       "       [ 0.75,  0.75,  0.75, -2.25]])"
      ]
     },
     "execution_count": 37,
     "metadata": {},
     "output_type": "execute_result"
    }
   ],
   "source": [
    "jc69Q*3"
   ]
  },
  {
   "cell_type": "markdown",
   "metadata": {},
   "source": [
    "When calculating the probability we will need to get a single column of the matrix as this will be the ancestral node probabilities. To make this easy we can create a dictionary corresponding to the matrix index."
   ]
  },
  {
   "cell_type": "code",
   "execution_count": 40,
   "metadata": {},
   "outputs": [
    {
     "data": {
      "text/plain": [
       "array([-0.75,  0.25,  0.25,  0.25])"
      ]
     },
     "execution_count": 40,
     "metadata": {},
     "output_type": "execute_result"
    }
   ],
   "source": [
    "jc69Q[0]"
   ]
  },
  {
   "cell_type": "code",
   "execution_count": 41,
   "metadata": {},
   "outputs": [],
   "source": [
    "base_index = {'A':0,'G':1,'C':2,'T':3,}"
   ]
  },
  {
   "cell_type": "code",
   "execution_count": 42,
   "metadata": {},
   "outputs": [
    {
     "data": {
      "text/plain": [
       "array([-0.75,  0.25,  0.25,  0.25])"
      ]
     },
     "execution_count": 42,
     "metadata": {},
     "output_type": "execute_result"
    }
   ],
   "source": [
    "jc69Q[base_index['A']]"
   ]
  },
  {
   "cell_type": "code",
   "execution_count": 53,
   "metadata": {},
   "outputs": [
    {
     "data": {
      "text/plain": [
       "-0.75"
      ]
     },
     "execution_count": 53,
     "metadata": {},
     "output_type": "execute_result"
    }
   ],
   "source": [
    "#you wont need this but you can do multi dimensional lookups as well\n",
    "jc69Q[base_index['A']][base_index['A']]"
   ]
  },
  {
   "cell_type": "markdown",
   "metadata": {},
   "source": [
    "To calculate the probability across our tree we need to calculate five probabilities, the probability at each of the three nodes and the transition probability at each of the two branches.\n",
    "First we will calculate the probabilities of the tip nodes."
   ]
  },
  {
   "cell_type": "markdown",
   "metadata": {},
   "source": [
    "## Exercise 1\n",
    "Calculate the probability of each of the two tip nodes.\n",
    "\n",
    "*hints:*\n",
    "\n",
    "*under this model they are both the same*\n",
    "\n",
    "you will need numpy.log() and the ** operator"
   ]
  },
  {
   "cell_type": "code",
   "execution_count": 52,
   "metadata": {},
   "outputs": [],
   "source": [
    "pr_seq1 = numpy.log(0.25)**len(sequence1)\n",
    "pr_seq2 = numpy.log(0.25)**len(sequence1)"
   ]
  },
  {
   "cell_type": "markdown",
   "metadata": {},
   "source": [
    "We now need to calculate the transition probability from each of the nodes.  We are going to simplify this and constrain both the branch lengths to be equal so we only need to make one probability matrix.\n",
    "\n",
    "We need to calculate the product of tQ and the exponential of the resulting matrix. To calculate the exponential we will use the scipy.linalg.expm() function that uses the Padé approximation."
   ]
  },
  {
   "cell_type": "code",
   "execution_count": 57,
   "metadata": {},
   "outputs": [],
   "source": [
    "from scipy.linalg import expm"
   ]
  },
  {
   "cell_type": "code",
   "execution_count": 63,
   "metadata": {},
   "outputs": [],
   "source": [
    "def make_transition_matrix(t, Q):\n",
    "    return expm(t*Q)"
   ]
  },
  {
   "cell_type": "markdown",
   "metadata": {},
   "source": [
    "Next we need to apply the probability matrix across the sequence. To do this we will need a function that calculates the transition probability matrix, and then process the probabilities for each site in the sequence.\n",
    "\n",
    "We will have two probabilites at the ancestral site, the probability of the length to sequence1 and the probability of the length to sequence2.\n",
    "As we are interested in the probability for both data points we will multiply these probabilities to get the combined probability of sequence1 and sequence2 at that site.\n",
    "\n",
    "At each site multiple probabilities will be generated, and as these represent alternative probabilites we sum them together.\n"
   ]
  },
  {
   "cell_type": "code",
   "execution_count": 77,
   "metadata": {},
   "outputs": [],
   "source": [
    "def get_site_probability(motif1, motif2, t1, t2, Q=jc69Q):\n",
    "    base_index = {'A':0,'G':1,'C':2,'T':3,}\n",
    "    P1 = make_transition_matrix(t1,Q)\n",
    "    P2 = make_transition_matrix(t2,Q)\n",
    "    return sum(P1[base_index[motif1]]*P2[base_index[motif2]])"
   ]
  },
  {
   "cell_type": "code",
   "execution_count": 78,
   "metadata": {},
   "outputs": [
    {
     "data": {
      "text/plain": [
       "0.35150146242745944"
      ]
     },
     "execution_count": 78,
     "metadata": {},
     "output_type": "execute_result"
    }
   ],
   "source": [
    "get_site_probability('A','A',1,1)"
   ]
  },
  {
   "cell_type": "markdown",
   "metadata": {},
   "source": [
    "To get the likelihood of the sequence we need to iterate over each site in the sequence, take the log and accumulate the sum of the logs."
   ]
  },
  {
   "cell_type": "code",
   "execution_count": 83,
   "metadata": {},
   "outputs": [],
   "source": [
    "def get_sequence_loglikelihood(seq1, seq2,\n",
    "                               t1, t2,\n",
    "                               Q=jc69Q):\n",
    "    likelihood = 0\n",
    "    assert len(seq1)==len(seq2)\n",
    "    for i in range(len(seq1)):\n",
    "        likelihood += numpy.log(\n",
    "            get_site_probability(seq1[i],seq2[i],\n",
    "                                 t1,t2,Q))\n",
    "    return likelihood"
   ]
  },
  {
   "cell_type": "code",
   "execution_count": 86,
   "metadata": {},
   "outputs": [
    {
     "data": {
      "text/plain": [
       "0.0"
      ]
     },
     "execution_count": 86,
     "metadata": {},
     "output_type": "execute_result"
    }
   ],
   "source": [
    "#This is a special case, identical sequences and zero branch length\n",
    "get_sequence_loglikelihood('AAAA','AAAA',0,0)"
   ]
  },
  {
   "cell_type": "code",
   "execution_count": 88,
   "metadata": {},
   "outputs": [
    {
     "data": {
      "text/plain": [
       "-3.5324468055704896"
      ]
     },
     "execution_count": 88,
     "metadata": {},
     "output_type": "execute_result"
    }
   ],
   "source": [
    "get_sequence_loglikelihood('AAAA','AATA',0.1,0.1)"
   ]
  },
  {
   "cell_type": "code",
   "execution_count": 89,
   "metadata": {},
   "outputs": [
    {
     "data": {
      "text/plain": [
       "-6.480386086500874"
      ]
     },
     "execution_count": 89,
     "metadata": {},
     "output_type": "execute_result"
    }
   ],
   "source": [
    "get_sequence_loglikelihood('AAAA','ACTA',0.1,0.1)"
   ]
  },
  {
   "cell_type": "markdown",
   "metadata": {},
   "source": [
    "The above code works as expected, however we end up doing lots of calls to the expensive expm function."
   ]
  },
  {
   "cell_type": "markdown",
   "metadata": {},
   "source": [
    "## Optional exercise\n",
    "Refactor the functions to reduce the number of calls to expm"
   ]
  },
  {
   "cell_type": "markdown",
   "metadata": {},
   "source": [
    "## Exercise 2\n",
    "Try some different sequences. Does it matter what the base changes are? If you have the same proportion of changes do you get the same results? Same proportion of conserved sites? What happens as the sequence gets longer? Does swapping t1 and t2 give the same likelihood result?\n"
   ]
  },
  {
   "cell_type": "markdown",
   "metadata": {},
   "source": [
    "## Exercise 3\n",
    "Plot the likelihood against t using a single value of t for both branch lengths. Do this for identical sequences and sequences with 25% difference."
   ]
  },
  {
   "cell_type": "code",
   "execution_count": 101,
   "metadata": {},
   "outputs": [
    {
     "data": {
      "text/plain": [
       "<matplotlib.collections.PathCollection at 0x1250dd3c8>"
      ]
     },
     "execution_count": 101,
     "metadata": {},
     "output_type": "execute_result"
    },
    {
     "data": {
      "image/png": "[encoded data removed]",
      "text/plain": [
       "<Figure size 432x288 with 1 Axes>"
      ]
     },
     "metadata": {
      "needs_background": "light"
     },
     "output_type": "display_data"
    }
   ],
   "source": [
    "import matplotlib\n",
    "\n",
    "lnLs = []\n",
    "ts = []\n",
    "\n",
    "for t in range(0,500):\n",
    "    t= t/100.0\n",
    "    ts.append(t)\n",
    "    lnLs.append(get_sequence_loglikelihood(sequence1,\n",
    "                                           sequence2,\n",
    "                                           t,t))\n",
    "\n",
    "matplotlib.pyplot.scatter(x=ts,y=lnLs)"
   ]
  },
  {
   "cell_type": "code",
   "execution_count": 102,
   "metadata": {},
   "outputs": [
    {
     "name": "stderr",
     "output_type": "stream",
     "text": [
      "/usr/local/lib/python3.7/site-packages/ipykernel_launcher.py:9: RuntimeWarning: divide by zero encountered in log\n",
      "  if __name__ == '__main__':\n"
     ]
    },
    {
     "data": {
      "text/plain": [
       "<matplotlib.collections.PathCollection at 0x12501af28>"
      ]
     },
     "execution_count": 102,
     "metadata": {},
     "output_type": "execute_result"
    },
    {
     "data": {
      "image/png": "[encoded data removed]",
      "text/plain": [
       "<Figure size 432x288 with 1 Axes>"
      ]
     },
     "metadata": {
      "needs_background": "light"
     },
     "output_type": "display_data"
    }
   ],
   "source": [
    "lnLs = []\n",
    "ts = []\n",
    "\n",
    "sequence3 = sequence2.replace('C','T')\n",
    "\n",
    "for t in range(0,500):\n",
    "    t= t/100.0\n",
    "    ts.append(t)\n",
    "    lnLs.append(get_sequence_loglikelihood(sequence1,\n",
    "                                           sequence3,\n",
    "                                           t,t))\n",
    "\n",
    "matplotlib.pyplot.scatter(x=ts,y=lnLs)\n",
    "\n"
   ]
  }
 ],
 "metadata": {
  "kernelspec": {
   "display_name": "Python 3",
   "language": "python",
   "name": "python3"
  },
  "language_info": {
   "codemirror_mode": {
    "name": "ipython",
    "version": 3
   },
   "file_extension": ".py",
   "mimetype": "text/x-python",
   "name": "python",
   "nbconvert_exporter": "python",
   "pygments_lexer": "ipython3",
   "version": "3.7.0"
  }
 },
 "nbformat": 4,
 "nbformat_minor": 2
}
